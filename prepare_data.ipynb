{
  "cells": [
    {
      "cell_type": "markdown",
      "metadata": {
        "id": "view-in-github",
        "colab_type": "text"
      },
      "source": [
        "<a href=\"https://colab.research.google.com/github/comptech-winter-school/covid19-prediction/blob/etl/prepare_data.ipynb\" target=\"_parent\"><img src=\"https://colab.research.google.com/assets/colab-badge.svg\" alt=\"Open In Colab\"/></a>"
      ]
    },
    {
      "cell_type": "code",
      "execution_count": null,
      "id": "d9663d19",
      "metadata": {
        "id": "d9663d19"
      },
      "outputs": [],
      "source": [
        "import pandas as pd\n",
        "from pathlib import Path"
      ]
    },
    {
      "cell_type": "code",
      "execution_count": null,
      "id": "cc4733a5",
      "metadata": {
        "id": "cc4733a5"
      },
      "outputs": [],
      "source": [
        "path = \"COVID-19/csse_covid_19_data/csse_covid_19_daily_reports\"\n",
        "all_files = Path(path).glob(\"*.csv\") \n",
        "\n",
        "df = pd.concat(map(pd.read_csv, all_files))"
      ]
    },
    {
      "cell_type": "code",
      "execution_count": null,
      "id": "72c25be2",
      "metadata": {
        "id": "72c25be2"
      },
      "outputs": [],
      "source": [
        "df.shape"
      ]
    },
    {
      "cell_type": "code",
      "execution_count": null,
      "id": "c61f1387",
      "metadata": {
        "scrolled": true,
        "id": "c61f1387"
      },
      "outputs": [],
      "source": [
        "df.head()"
      ]
    },
    {
      "cell_type": "code",
      "execution_count": null,
      "id": "b353dca7",
      "metadata": {
        "id": "b353dca7"
      },
      "outputs": [],
      "source": [
        "def remove_small_countries(df):\n",
        "    countries = df.groupby(\"Country_Region\").last().query('Confirmed > 100000').index.to_list()\n",
        "    return df[df.Country_Region.isin(countries)]"
      ]
    },
    {
      "cell_type": "code",
      "execution_count": null,
      "id": "1a22aab6",
      "metadata": {
        "id": "1a22aab6"
      },
      "outputs": [],
      "source": [
        "def report_shape(df):\n",
        "    print(df.shape)\n",
        "    return df"
      ]
    },
    {
      "cell_type": "code",
      "source": [
        "def merge_columns(f1, f2, df):\n",
        "    d = df.loc[:, [f1, f2]].copy()\n",
        "    d.loc[d[f1].isna(), f1] = d.loc[d[f1].isna(), f2]\n",
        "    return d[f1]"
      ],
      "metadata": {
        "id": "XsTOj4VtyY7H"
      },
      "id": "XsTOj4VtyY7H",
      "execution_count": null,
      "outputs": []
    },
    {
      "cell_type": "code",
      "source": [
        "def add_new_cases(data):\n",
        "\n",
        "    temp_df, df_ = pd.DataFrame(), pd.DataFrame()\n",
        "    for country in data['Country_Region'].unique():\n",
        "        temp_df = data.loc[data['Country_Region'] == country, :].copy()\n",
        "        temp_df['New_Cases'] = (temp_df['Confirmed'] - temp_df['Confirmed'].shift(1))\n",
        "        df_ = pd.concat([df_, temp_df], axis=0).dropna()\n",
        "    \n",
        "    return df_"
      ],
      "metadata": {
        "id": "iNq9GkYfaN-R"
      },
      "id": "iNq9GkYfaN-R",
      "execution_count": null,
      "outputs": []
    },
    {
      "cell_type": "code",
      "execution_count": null,
      "id": "943bd635",
      "metadata": {
        "id": "943bd635"
      },
      "outputs": [],
      "source": [
        "(df\n",
        " .assign(Country_Region = merge_columns(\"Country_Region\", \"Country/Region\", df))\n",
        " .assign(Last_Update = merge_columns(\"Last_Update\", \"Last Update\", df))\n",
        " .assign(Last_Update = pd.to_datetime(df[\"Last_Update\"]).dt.date)\n",
        " .loc[:, [\"Country_Region\", \"Last_Update\", \"Confirmed\"]]\n",
        " .dropna()\n",
        " .groupby([\"Country_Region\", \"Last_Update\"])\n",
        " .sum()\n",
        " .reset_index()\n",
        " .set_index(\"Last_Update\")\n",
        " .sort_index()\n",
        " .pipe(remove_small_countries)\n",
        " .pipe(add_new_cases)\n",
        "#  .pipe(report_shape)\n",
        " .to_parquet(\"tmp/data.parquet\")\n",
        ")"
      ]
    }
  ],
  "metadata": {
    "kernelspec": {
      "display_name": "Python 3",
      "language": "python",
      "name": "python3"
    },
    "language_info": {
      "codemirror_mode": {
        "name": "ipython",
        "version": 3
      },
      "file_extension": ".py",
      "mimetype": "text/x-python",
      "name": "python",
      "nbconvert_exporter": "python",
      "pygments_lexer": "ipython3",
      "version": "3.6.9"
    },
    "varInspector": {
      "cols": {
        "lenName": 16,
        "lenType": 16,
        "lenVar": 40
      },
      "kernels_config": {
        "python": {
          "delete_cmd_postfix": "",
          "delete_cmd_prefix": "del ",
          "library": "var_list.py",
          "varRefreshCmd": "print(var_dic_list())"
        },
        "r": {
          "delete_cmd_postfix": ") ",
          "delete_cmd_prefix": "rm(",
          "library": "var_list.r",
          "varRefreshCmd": "cat(var_dic_list()) "
        }
      },
      "types_to_exclude": [
        "module",
        "function",
        "builtin_function_or_method",
        "instance",
        "_Feature"
      ],
      "window_display": false
    },
    "colab": {
      "name": "prepare_data.ipynb",
      "provenance": [],
      "include_colab_link": true
    }
  },
  "nbformat": 4,
  "nbformat_minor": 5
}